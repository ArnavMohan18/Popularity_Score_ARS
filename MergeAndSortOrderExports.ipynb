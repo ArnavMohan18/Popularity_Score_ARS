{
 "cells": [
  {
   "cell_type": "code",
   "execution_count": 3,
   "id": "a3b97e03-cc20-452f-9f90-9fd1207097df",
   "metadata": {
    "tags": []
   },
   "outputs": [
    {
     "name": "stdout",
     "output_type": "stream",
     "text": [
      "        order_id    created_at  customer_id  line              sku  units\n",
      "0          15113   1/1/21 0:07            0     1         38ERT500      1\n",
      "1          15114   1/1/21 0:34        17973     1  65V6043-STWWC28     24\n",
      "2          15114   1/1/21 0:34        17973     2          7010812      1\n",
      "3          15115   1/1/21 2:34            0     1        71126DBTG      1\n",
      "4          15116   1/1/21 6:23        19172     1           52110L     25\n",
      "...          ...           ...          ...   ...              ...    ...\n",
      "2202  3000000027  6/1/21 16:22        19660     4         57490032      1\n",
      "2203  3000000027  6/1/21 16:22        19660     5         57490044      1\n",
      "2204  3000000027  6/1/21 16:22        19660     6         57490073      1\n",
      "2205  3000000027  6/1/21 16:22        19660     7         54811192      1\n",
      "2206  3000000027  6/1/21 16:22        19660     8           56201G      2\n",
      "\n",
      "[2207 rows x 6 columns]\n"
     ]
    }
   ],
   "source": [
    "import pandas as pd\n",
    "import csv\n",
    "\n",
    "#columns = [\"Order_id\", \"email\", \"is_guest\", \"products_ordered\", \"order_status\", \"created_at\", \"store_id\", \"group_id\", \"updated_at\", \"taxvat\", \"shipping_region\", \"shipping_postcode\", \"customer_id\", \"customer_taxvat\", \"customer_is_guest\", \"shipping_method\", \"shipping_amount\", \"grand_total\", \"subtotal\", \"tax_amount\"]  \n",
    "df_initial = pd.read_csv(\"export_orders_20210101_20210601.csv\")\n",
    "df = df_initial.filter([\"order_id\",\"order_status\",\"created_at\",\"customer_id\",\"products_ordered\"])\n",
    "dict_ol = {\"order_id\" : [], \"created_at\" : [], \"customer_id\" : [], \"line\" : [], \"sku\" : [], \"units\" : []}\n",
    "for index in range (len(df)):\n",
    "    if df.loc[index, \"order_status\"] == 'complete':\n",
    "        # print(df.loc[index,\"products_ordered\"])\n",
    "        # split lines based on pipe\n",
    "        lines = df.loc[index,\"products_ordered\"].split(\"|\")\n",
    "        line_num = 1\n",
    "        order_line = {'order_id' : df.loc[index,'order_id']}\n",
    "        order_line['created_at'] = df.loc[index,'created_at']\n",
    "        customer_id = 0\n",
    "        if df.loc[index,'customer_id'] > 0:  \n",
    "            customer_id = int(df.loc[index,'customer_id'])\n",
    "        for line in lines:\n",
    "            parts = line.split(\":\")\n",
    "            sku, units = parts[0], parts[1]\n",
    "            dict_ol['order_id'].append(df.loc[index,'order_id'])\n",
    "            dict_ol['created_at'].append(df.loc[index,'created_at'])\n",
    "            dict_ol['customer_id'].append(customer_id)\n",
    "            dict_ol['line'].append(line_num)\n",
    "            dict_ol['sku'].append(parts[0])\n",
    "            # fix issue of quotes in units\n",
    "            units = int(float(parts[1].replace('\"', '')))\n",
    "            dict_ol['units'].append(units)\n",
    "            #print(order_line)\n",
    "            line_num += 1\n",
    "        #print(lines)\n",
    "df_ol = pd.DataFrame(dict_ol,columns = [\"order_id\", \"created_at\", \"customer_id\", \"line\", \"sku\", \"units\"])\n",
    "print(df_ol)\n",
    "df_ol.to_csv('new.csv')\n",
    "\n",
    "    "
   ]
  },
  {
   "cell_type": "code",
   "execution_count": null,
   "id": "e8e70b5b-24f1-447b-8259-b1022d7213a4",
   "metadata": {},
   "outputs": [],
   "source": []
  }
 ],
 "metadata": {
  "kernelspec": {
   "display_name": "Python 3 (ipykernel)",
   "language": "python",
   "name": "python3"
  },
  "language_info": {
   "codemirror_mode": {
    "name": "ipython",
    "version": 3
   },
   "file_extension": ".py",
   "mimetype": "text/x-python",
   "name": "python",
   "nbconvert_exporter": "python",
   "pygments_lexer": "ipython3",
   "version": "3.9.12"
  }
 },
 "nbformat": 4,
 "nbformat_minor": 5
}
